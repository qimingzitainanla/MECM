{
 "cells": [
  {
   "cell_type": "code",
   "execution_count": 2,
   "id": "2ed46e9d",
   "metadata": {},
   "outputs": [
    {
     "name": "stderr",
     "output_type": "stream",
     "text": [
      "G:\\python310\\lib\\site-packages\\tqdm\\auto.py:21: TqdmWarning: IProgress not found. Please update jupyter and ipywidgets. See https://ipywidgets.readthedocs.io/en/stable/user_install.html\n",
      "  from .autonotebook import tqdm as notebook_tqdm\n"
     ]
    }
   ],
   "source": [
    "import scipy.io as scio\n",
    "import pandas as pd\n",
    "import os\n",
    "import numpy as np\n",
    "import pickle\n",
    "\n",
    "import torch\n",
    "import torch.nn as nn\n",
    "import torch.nn.functional as F\n",
    "from torch.nn.functional import interpolate\n",
    "from torch.autograd import Variable\n",
    "from torch.utils.data import DataLoader, Dataset, TensorDataset\n",
    "import torch.utils.data as Data\n",
    "from einops import rearrange, repeat\n",
    "from einops.layers.torch import Rearrange\n",
    "from torch import einsum\n",
    "from sklearn.model_selection import train_test_split\n",
    "from sklearn.model_selection import StratifiedKFold, KFold, LeaveOneGroupOut\n",
    "import copy\n",
    "from torch.optim.lr_scheduler import StepLR\n",
    "from sklearn.metrics import f1_score, precision_score, recall_score, roc_auc_score, accuracy_score\n",
    "#from sklearn import preprocessing\n",
    "from einops import rearrange, repeat\n",
    "from einops.layers.torch import Rearrange\n",
    "from tqdm import tqdm, trange\n",
    "from torcheeg.datasets.constants.emotion_recognition import format_region_channel_list\n",
    "# from ConLoss import SupConLoss\n",
    "import random\n",
    "# import Module as md\n",
    "import mne\n",
    "\n",
    "from torcheeg.datasets.constants.emotion_recognition.deap import DEAP_GENERAL_REGION_LIST\n",
    "from torcheeg.models import (EEGNet, FBCNet, TSCeption)\n",
    "from torcheeg.models import DGCNN, ArjunViT, STNet, FBCNet, GRU, LSTM, LGGNet, MTCNN\n",
    "# import MI as mi"
   ]
  },
  {
   "cell_type": "code",
   "execution_count": 3,
   "id": "882c147c",
   "metadata": {},
   "outputs": [
    {
     "data": {
      "text/plain": [
       "((2123, 67, 1251), (2123,), (2123,))"
      ]
     },
     "execution_count": 3,
     "metadata": {},
     "output_type": "execute_result"
    }
   ],
   "source": [
    "eeg_data=np.load('data_epochs/eright_and_cwrong_data.npy')\n",
    "dec_label=np.load('data_epochs/eright_and_cwrong_label_dec.npy')\n",
    "emo_label=np.load('data_epochs/eright_and_cwrong_label_emo.npy')\n",
    "eeg_data.shape,dec_label.shape,emo_label.shape"
   ]
  },
  {
   "cell_type": "code",
   "execution_count": 4,
   "id": "89ee07e2",
   "metadata": {},
   "outputs": [],
   "source": [
    "#将标签转化\n",
    "# 创建字母到数字的映射字典\n",
    "dec_judged_by_direction = {'1': 0, \n",
    "                           '2': 1, \n",
    "                           '3': 0,\n",
    "                           '4': 1,\n",
    "                           '5': 2}#0是左，1是右，2是没操作\n",
    "dec_judged_by_correct = {'1': 0,\n",
    "                         '2': 0,\n",
    "                         '3': 1,\n",
    "                         '4': 1,\n",
    "                         '5': 1}#0是对，1是错\n",
    "emo_judged_by_movie = {'01': 0, \n",
    "                       '02': 1, \n",
    "                       '11': 2,\n",
    "                       '12': 3,\n",
    "                       '21': 4,\n",
    "                       '22': 5,\n",
    "                       '31': 6,\n",
    "                       '32': 7}\n",
    "emo_judged_by_emotion = {'01': 0, \n",
    "                       '02': 0, \n",
    "                       '11': 1,\n",
    "                       '12': 1,\n",
    "                       '21': 2,\n",
    "                       '22': 2,\n",
    "                       '31': 3,\n",
    "                       '32': 3}"
   ]
  },
  {
   "cell_type": "code",
   "execution_count": 5,
   "id": "01e935b2",
   "metadata": {},
   "outputs": [],
   "source": [
    "# \n",
    "#使用映射字典进行转换\n",
    "dec_convert_label = np.array([dec_judged_by_correct [letter] for letter in dec_label])\n",
    "emo_convert_label = np.array([emo_judged_by_emotion [letter] for letter in emo_label])"
   ]
  },
  {
   "cell_type": "code",
   "execution_count": 6,
   "id": "5ba973ce",
   "metadata": {},
   "outputs": [],
   "source": [
    "def set_seed_everywhere(seed):\n",
    "    torch.manual_seed(seed)\n",
    "    if torch.cuda.is_available():\n",
    "        torch.cuda.manual_seed_all(seed)\n",
    "    np.random.seed(seed)"
   ]
  },
  {
   "cell_type": "code",
   "execution_count": 7,
   "id": "9df16356",
   "metadata": {},
   "outputs": [
    {
     "name": "stdout",
     "output_type": "stream",
     "text": [
      "[1533 2000  113 ... 1140  614  580]\n"
     ]
    }
   ],
   "source": [
    "#打乱数据\n",
    "set_seed_everywhere(3407)\n",
    "index=np.random.permutation(eeg_data.shape[0])\n",
    "print(index)\n",
    "eeg_data=eeg_data[index]\n",
    "delete_index=[32,42,64,65,66]\n",
    "eeg_data=np.delete(eeg_data,delete_index,axis=1)\n",
    "dec_label=dec_convert_label[index]\n",
    "emo_label=emo_convert_label[index]"
   ]
  },
  {
   "cell_type": "code",
   "execution_count": 8,
   "id": "a715b8e0",
   "metadata": {},
   "outputs": [
    {
     "data": {
      "text/plain": [
       "((425, 62, 1251), (425,), (425,))"
      ]
     },
     "execution_count": 8,
     "metadata": {},
     "output_type": "execute_result"
    }
   ],
   "source": [
    "#训练数据\n",
    "eegdata_train=eeg_data[:int(np.floor(len(eeg_data)*0.8))]\n",
    "declabel_train=dec_label[:int(np.floor(len(eeg_data)*0.8))]\n",
    "emolabel_train=emo_label[:int(np.floor(len(eeg_data)*0.8))]\n",
    "\n",
    "#测试数据\n",
    "eegdata_test=eeg_data[int(np.floor(len(eeg_data)*0.8)):]\n",
    "emolabel_test=emo_label[int(np.floor(len(eeg_data)*0.8)):]\n",
    "declabel_test=dec_label[int(np.floor(len(eeg_data)*0.8)):]\n",
    "\n",
    "eegdata_test.shape,emolabel_test.shape,declabel_test.shape"
   ]
  },
  {
   "cell_type": "code",
   "execution_count": 9,
   "id": "20c942bf",
   "metadata": {},
   "outputs": [
    {
     "data": {
      "text/plain": [
       "(torch.Size([1698, 1, 62, 1251]),\n",
       " torch.Size([1698]),\n",
       " torch.Size([1698]),\n",
       " torch.Size([425, 1, 62, 1251]),\n",
       " torch.Size([425]),\n",
       " torch.Size([425]))"
      ]
     },
     "execution_count": 9,
     "metadata": {},
     "output_type": "execute_result"
    }
   ],
   "source": [
    "train_data=torch.from_numpy(eegdata_train.reshape(-1,1,62,1251)).float()\n",
    "train_dec_label=torch.from_numpy(declabel_train).float()\n",
    "train_emo_label=torch.from_numpy(emolabel_train).float()\n",
    "\n",
    "\n",
    "test_data=torch.from_numpy(eegdata_test.reshape(-1,1,62,1251)).float()\n",
    "test_dec_label=torch.from_numpy(declabel_test).float()\n",
    "test_emo_label=torch.from_numpy(emolabel_test).float()\n",
    "train_data.shape,train_dec_label.shape,train_emo_label.shape,test_data.shape,test_dec_label.shape,test_emo_label.shape"
   ]
  },
  {
   "cell_type": "code",
   "execution_count": 10,
   "id": "83c240fa",
   "metadata": {},
   "outputs": [
    {
     "data": {
      "text/plain": [
       "(torch.Size([1698, 1, 62, 875]),\n",
       " torch.Size([1698]),\n",
       " torch.Size([1698]),\n",
       " torch.Size([425, 1, 62, 875]),\n",
       " torch.Size([425]),\n",
       " torch.Size([425]))"
      ]
     },
     "execution_count": 10,
     "metadata": {},
     "output_type": "execute_result"
    }
   ],
   "source": [
    "#去除操作部分数据，只保留操作前的数据\n",
    "train_data=train_data[:,:,:,:875]\n",
    "test_data=test_data[:,:,:,:875]\n",
    "train_data.shape,train_dec_label.shape,train_emo_label.shape,test_data.shape,test_dec_label.shape,test_emo_label.shape"
   ]
  },
  {
   "cell_type": "code",
   "execution_count": 11,
   "id": "30a8ed95",
   "metadata": {},
   "outputs": [],
   "source": [
    "'''\n",
    "归一化处理\n",
    "'''\n",
    "def scale(X, dim):\n",
    "    X -= np.mean(X, axis=dim, keepdims=True)\n",
    "    return X / np.std(X, axis=dim, keepdims=True)\n",
    "\n",
    "train_data = scale(train_data.numpy(), dim=3)\n",
    "test_data = scale(test_data.numpy(), dim=3)\n"
   ]
  },
  {
   "cell_type": "code",
   "execution_count": 12,
   "id": "68fd6520",
   "metadata": {},
   "outputs": [],
   "source": [
    "train_data=torch.from_numpy(train_data)\n",
    "test_data=torch.from_numpy(test_data)"
   ]
  },
  {
   "cell_type": "code",
   "execution_count": 13,
   "id": "d573d8bc",
   "metadata": {},
   "outputs": [],
   "source": [
    "\n",
    "np.save(f'data_training/eright_and_cwrong_train_data.npy',train_data)\n",
    "np.save(f'data_training/eright_and_cwrong_train_dec_label.npy',train_dec_label)\n",
    "np.save(f'data_training/eright_and_cwrong_train_emo_label.npy',train_emo_label)\n",
    "np.save(f'data_training/eright_and_cwrong_test_data.npy',test_data)\n",
    "np.save(f'data_training/eright_and_cwrong_test_dec_label.npy',test_dec_label)\n",
    "np.save(f'data_training/eright_and_cwrong_test_emo_label.npy',test_emo_label)"
   ]
  },
  {
   "cell_type": "code",
   "execution_count": null,
   "id": "15322818",
   "metadata": {},
   "outputs": [],
   "source": []
  }
 ],
 "metadata": {
  "kernelspec": {
   "display_name": "Python 3 (ipykernel)",
   "language": "python",
   "name": "python3"
  },
  "language_info": {
   "codemirror_mode": {
    "name": "ipython",
    "version": 3
   },
   "file_extension": ".py",
   "mimetype": "text/x-python",
   "name": "python",
   "nbconvert_exporter": "python",
   "pygments_lexer": "ipython3",
   "version": "3.10.8"
  }
 },
 "nbformat": 4,
 "nbformat_minor": 5
}
